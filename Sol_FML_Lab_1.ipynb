{
 "cells": [
  {
   "cell_type": "markdown",
   "id": "b1d7730f-a20b-4e8d-98b4-75d87b9d1765",
   "metadata": {},
   "source": [
    "Assignment 1 "
   ]
  },
  {
   "cell_type": "code",
   "execution_count": null,
   "id": "f2af4006-bd8f-4ca4-b375-5465047b749d",
   "metadata": {},
   "outputs": [],
   "source": []
  },
  {
   "cell_type": "markdown",
   "id": "91c0e212-7c6e-460c-b5eb-4c0e8aebe316",
   "metadata": {},
   "source": [
    "Question 1. Lists and Loops: Write a Python function that takes a list of integers as\n",
    "input and returns the sum of all even numbers in the list."
   ]
  },
  {
   "cell_type": "code",
   "execution_count": 10,
   "id": "88ecc9d7-cae1-4d2d-ad12-a0bbf19f166e",
   "metadata": {},
   "outputs": [],
   "source": [
    "def even_number_sum(list1):\n",
    "    list2 =[]\n",
    "    even_sum=0 \n",
    "    for value in range(0,len(list1)+1):\n",
    "        if value%2==0:\n",
    "            list2.append(value)\n",
    "            even_sum+=value\n",
    "    print('even sum of',list2,'is',even_sum)"
   ]
  },
  {
   "cell_type": "code",
   "execution_count": 11,
   "id": "d4f44428-2b5f-4801-a8d3-ab55cae3289f",
   "metadata": {},
   "outputs": [
    {
     "name": "stdin",
     "output_type": "stream",
     "text": [
      "enter value 1\n",
      "enter value 2\n",
      "enter value 3\n",
      "enter value 4\n",
      "enter value 5\n",
      "enter value 6\n",
      "enter value 7\n",
      "enter value 8\n",
      "enter value 9\n",
      "enter value 10\n"
     ]
    },
    {
     "name": "stdout",
     "output_type": "stream",
     "text": [
      "[1, 2, 3, 4, 5, 6, 7, 8, 9, 10]\n",
      "even sum of [0, 2, 4, 6, 8, 10] is 30\n"
     ]
    }
   ],
   "source": [
    "list3=[]\n",
    "for i in range(0,10):\n",
    "    value=int(input('enter value'))\n",
    "    list3.append(value)\n",
    "print(list3)\n",
    "even_number_sum(list3)"
   ]
  },
  {
   "cell_type": "code",
   "execution_count": null,
   "id": "07781bd2-a7c4-45d0-938d-ea3d74009ade",
   "metadata": {},
   "outputs": [],
   "source": []
  },
  {
   "cell_type": "markdown",
   "id": "345adaa2-10d7-4926-b6b1-94d08a41d334",
   "metadata": {},
   "source": [
    "Question 2. List Comprehension: Given a list of words, create a new list containing\n",
    "the length of each word using list comprehension."
   ]
  },
  {
   "cell_type": "code",
   "execution_count": 14,
   "id": "45fd88e2-ba0b-4ec6-b2f4-24c7de656d92",
   "metadata": {},
   "outputs": [
    {
     "name": "stdin",
     "output_type": "stream",
     "text": [
      "enter word ram\n",
      "enter word sita\n",
      "enter word hanuman\n",
      "enter word laxman\n",
      "enter word ramayan\n"
     ]
    },
    {
     "name": "stdout",
     "output_type": "stream",
     "text": [
      "['ram', 'sita', 'hanuman', 'laxman', 'ramayan']\n"
     ]
    }
   ],
   "source": [
    "word_list=[]\n",
    "for i in range(0,5):\n",
    "    word=input('enter word')\n",
    "    word_list.append(word)\n",
    "print(word_list)"
   ]
  },
  {
   "cell_type": "code",
   "execution_count": 15,
   "id": "2586c0e7-243f-4549-b029-1b412e3eaefb",
   "metadata": {},
   "outputs": [
    {
     "name": "stdout",
     "output_type": "stream",
     "text": [
      "[3, 4, 7, 6, 7]\n"
     ]
    }
   ],
   "source": [
    "word_length=[len(word) for word in word_list]\n",
    "print(word_length)"
   ]
  },
  {
   "cell_type": "code",
   "execution_count": null,
   "id": "efe188f5-2840-49fa-9aee-ded248e9f20a",
   "metadata": {},
   "outputs": [],
   "source": []
  },
  {
   "cell_type": "markdown",
   "id": "28ce4eac-8e72-44ad-8fce-fd918b077653",
   "metadata": {},
   "source": [
    "Question 3. NumPy Array Operations: Given two NumPy arrays arr1 = np.array([1,\n",
    "2, 3]) and arr2 = np.array([4, 5, 6]), perform element-wise multiplication and\n",
    "store the result in a new array."
   ]
  },
  {
   "cell_type": "code",
   "execution_count": 1,
   "id": "cda43533-0291-4f5d-bbb8-609d3fe636ee",
   "metadata": {},
   "outputs": [
    {
     "name": "stdout",
     "output_type": "stream",
     "text": [
      "1\n",
      "1\n",
      "[ 4 10 18]\n"
     ]
    }
   ],
   "source": [
    "import numpy as np\n",
    "arry1=np.array([1,2,3])\n",
    "arry2=np.array([4,5,6])\n",
    "\n",
    "print(arry1.ndim)\n",
    "print(arry2.ndim)\n",
    "\n",
    "multi_arry=np.multiply(arry1,arry2)\n",
    "print(multi_arry)"
   ]
  },
  {
   "cell_type": "code",
   "execution_count": null,
   "id": "a1079657-c195-4190-9a82-24f282761fc6",
   "metadata": {},
   "outputs": [],
   "source": []
  },
  {
   "cell_type": "markdown",
   "id": "4f53c74a-e20b-42cb-b532-b99b55e632e0",
   "metadata": {},
   "source": [
    "Question 4. NumPy Array Slicing: Given a NumPy array data = np.arange(1, 21),\n",
    "use array slicing to extract elements from index 5 to index 15."
   ]
  },
  {
   "cell_type": "code",
   "execution_count": 39,
   "id": "928204b8-fe77-4879-b7c7-86fd9dd52533",
   "metadata": {},
   "outputs": [
    {
     "name": "stdout",
     "output_type": "stream",
     "text": [
      "[ 6  7  8  9 10 11 12 13 14 15 16]\n"
     ]
    }
   ],
   "source": [
    "arry_list = np.arange(1, 21)\n",
    "\n",
    "# Using array slicing to extract elements from index 5 to index 15\n",
    "extracted_element = arry_list[5:16]\n",
    "\n",
    "print(extracted_element)\n"
   ]
  },
  {
   "cell_type": "code",
   "execution_count": null,
   "id": "b5717568-3e78-4fbe-96a6-c61cc8bdf0aa",
   "metadata": {},
   "outputs": [],
   "source": []
  },
  {
   "cell_type": "code",
   "execution_count": null,
   "id": "a6e35578-d4b0-41a4-9b93-a5f257a69375",
   "metadata": {},
   "outputs": [],
   "source": [
    "Question 5. Data Visualization with Matplotlib: Using Matplotlib, create a line\n",
    "plot to visualize the trend of a stock’s closing price over ten days (random\n",
    "data can be used)."
   ]
  },
  {
   "cell_type": "code",
   "execution_count": 2,
   "id": "7d9de125-2059-440b-9030-2c4eb34c12e8",
   "metadata": {},
   "outputs": [],
   "source": [
    "import pandas as pd \n",
    "import numpy as np\n",
    "import matplotlib.pyplot as plt"
   ]
  },
  {
   "cell_type": "code",
   "execution_count": 58,
   "id": "ffde5290-2d62-44bb-b85b-1183b8aa7fd1",
   "metadata": {},
   "outputs": [
    {
     "data": {
      "image/png": "[encoded data removed]",
      "text/plain": [
       "<Figure size 1000x600 with 1 Axes>"
      ]
     },
     "metadata": {},
     "output_type": "display_data"
    }
   ],
   "source": [
    "day=np.arange(1,11)\n",
    "close_price=np.random.uniform(100,200,size=10)\n",
    "\n",
    "plt.figure(figsize=(10, 6))\n",
    "plt.plot(day, close_price, marker='o', linestyle='-', color='b', label='Closing Price')\n",
    "\n",
    "plt.xlabel('Day')\n",
    "plt.ylabel('Closing Price')\n",
    "plt.title('Stock Closing Price Trend Over Ten Days')\n",
    "\n",
    "plt.legend()\n",
    "plt.grid(True)\n",
    "plt.show()"
   ]
  },
  {
   "cell_type": "code",
   "execution_count": null,
   "id": "5aa98c94-f07b-4baa-99c2-90ddabc6f023",
   "metadata": {},
   "outputs": [],
   "source": []
  },
  {
   "cell_type": "markdown",
   "id": "289ff96b-0cf6-4635-9c68-0e9144017c9d",
   "metadata": {},
   "source": [
    "Question 6. Data Cleaning with Pandas: Given a Pandas DataFrame with a column\n",
    "containing missing values, write a Python function to replace those missing\n",
    "values with the mean of that column."
   ]
  },
  {
   "cell_type": "code",
   "execution_count": 73,
   "id": "1613547e-1b71-431d-917e-aac2f31e57e3",
   "metadata": {},
   "outputs": [
    {
     "name": "stdout",
     "output_type": "stream",
     "text": [
      "     S    N    C\n",
      "0  3.0  2.0  1.0\n",
      "1  2.0  3.0  NaN\n",
      "2  NaN  4.0  6.0\n",
      "3  4.0  NaN  NaN\n",
      "4  5.0  NaN  5.0\n"
     ]
    }
   ],
   "source": [
    "def repl_miss_mean(dataframe):\n",
    "    for column in dataframe.columns:\n",
    "        if dataframe[column].isnull().any():\n",
    "            column_mean = dataframe[column].mean()\n",
    "            \n",
    "            dataframe[column].fillna(column_mean, inplace=True)\n",
    "\n",
    "# Example DataFrame with missing values\n",
    "data = {'S': [3, 2, np.nan, 4, 5],\n",
    "        'N': [ 2, 3, 4, np.nan, np.nan],\n",
    "        'C': [1, np.nan, 6, np.nan, 5]}\n",
    "df = pd.DataFrame(data)\n",
    "print(df)"
   ]
  },
  {
   "cell_type": "code",
   "execution_count": 74,
   "id": "7320b5c1-ec95-4b16-8e3c-ae497e434c03",
   "metadata": {},
   "outputs": [
    {
     "name": "stdout",
     "output_type": "stream",
     "text": [
      "\n",
      "DataFrame after replacing missing values with mean:\n",
      "     S    N    C\n",
      "0  3.0  2.0  1.0\n",
      "1  2.0  3.0  4.0\n",
      "2  3.5  4.0  6.0\n",
      "3  4.0  3.0  4.0\n",
      "4  5.0  3.0  5.0\n"
     ]
    }
   ],
   "source": [
    "repl_miss_mean(df)\n",
    "\n",
    "print(\"\\nDataFrame after replacing missing values with mean:\")\n",
    "print(df)"
   ]
  },
  {
   "cell_type": "code",
   "execution_count": null,
   "id": "a308310b-bd57-4527-af97-1b456d3f6545",
   "metadata": {},
   "outputs": [],
   "source": []
  },
  {
   "cell_type": "markdown",
   "id": "fc050ce6-5a1a-46e0-984d-3e1d48498f4d",
   "metadata": {},
   "source": [
    "Question 7. Pandas DataFrame Filtering: Using Pandas, filter a DataFrame to only\n",
    "include rows where the ’age’ column is greater than 30 and the ’gender’\n",
    "column is ’female’."
   ]
  },
  {
   "cell_type": "code",
   "execution_count": null,
   "id": "3322c4e7-aa63-4027-8ace-bab412a7255e",
   "metadata": {},
   "outputs": [],
   "source": []
  },
  {
   "cell_type": "code",
   "execution_count": 81,
   "id": "74518624-d415-4638-b110-6ed193cc2c6f",
   "metadata": {},
   "outputs": [
    {
     "name": "stdout",
     "output_type": "stream",
     "text": [
      "     name  age  gender\n",
      "2  harsha   33  female\n",
      "4  shobha   36  female\n"
     ]
    }
   ],
   "source": [
    "import pandas as pd\n",
    "\n",
    "data = {'name': ['kirti', 'rahul', 'harsha', 'vivek', 'shobha'],\n",
    "        'age': [26, 43, 33, 24, 36],\n",
    "        'gender': ['female', 'male', 'female', 'male', 'female']}\n",
    "df = pd.DataFrame(data)\n",
    "\n",
    "filter_df = df[(df['age'] > 30) & (df['gender'] == 'female')]\n",
    "\n",
    "print(filter_df)\n"
   ]
  },
  {
   "cell_type": "code",
   "execution_count": null,
   "id": "841d9e16-4a20-4bb7-857a-87f3b47f2af3",
   "metadata": {},
   "outputs": [],
   "source": []
  },
  {
   "cell_type": "markdown",
   "id": "b6cb8bb7-17da-4056-9dea-846fa2d9171a",
   "metadata": {},
   "source": [
    "Question 8. Pandas Grouping: Given a DataFrame with columns ’Country’ and ’Pop-\n",
    "ulation’, use Pandas to group the data by ’Country’ and calculate the average\n",
    "population for each country."
   ]
  },
  {
   "cell_type": "code",
   "execution_count": 85,
   "id": "3132e18b-6d3c-4663-8801-7adedbb3d2b5",
   "metadata": {},
   "outputs": [
    {
     "name": "stdout",
     "output_type": "stream",
     "text": [
      "Country\n",
      "Canada    222.333333\n",
      "USA       134.333333\n",
      "Name: Population, dtype: float64\n"
     ]
    }
   ],
   "source": [
    "data = {'Country': ['USA', 'USA', 'Canada', 'USA', 'Canada', 'Canada'],\n",
    "        'Population': [328, 37, 310, 38, 37, 320]}\n",
    "df = pd.DataFrame(data)\n",
    "\n",
    "# Group by 'Country' and calculate average population\n",
    "avg_pop_countrys = df.groupby('Country')['Population'].mean()\n",
    "\n",
    "print(avg_pop_countrys)\n"
   ]
  },
  {
   "cell_type": "code",
   "execution_count": null,
   "id": "f8c72280-3c28-45b5-be85-3d5369ebc98a",
   "metadata": {},
   "outputs": [],
   "source": []
  },
  {
   "cell_type": "markdown",
   "id": "d8ad3b2d-3e81-4cfe-abf9-52828bd916cb",
   "metadata": {},
   "source": [
    "Question 9. Data Visualization with Seaborn: Using Seaborn, create a box plot to\n",
    "visualize the distribution of ages for different ’Species’ in a DataFrame."
   ]
  },
  {
   "cell_type": "code",
   "execution_count": 86,
   "id": "db072593-9b82-4ae4-a887-a04c5b428baf",
   "metadata": {},
   "outputs": [
    {
     "data": {
      "image/png": "[encoded data removed]",
      "text/plain": [
       "<Figure size 800x600 with 1 Axes>"
      ]
     },
     "metadata": {},
     "output_type": "display_data"
    }
   ],
   "source": [
    "import seaborn as sns\n",
    "import matplotlib.pyplot as plt\n",
    "\n",
    "data = {'Species': ['Cat', 'Dog', 'Cat', 'Dog', 'Cat', 'Dog', 'Cat', 'Dog'],\n",
    "        'Age': [3, 5, 2, 4, 4, 7, 1, 6]}\n",
    "df = pd.DataFrame(data)\n",
    "\n",
    "plt.figure(figsize=(8, 6))\n",
    "sns.boxplot(x='Species', y='Age', data=df)\n",
    "\n",
    "plt.xlabel('Species')\n",
    "plt.ylabel('Age')\n",
    "plt.title('Distribution of Ages for Different Species')\n",
    "plt.show()\n"
   ]
  },
  {
   "cell_type": "code",
   "execution_count": null,
   "id": "9528180f-bbf7-4970-98d2-894159d6ab98",
   "metadata": {},
   "outputs": [],
   "source": []
  },
  {
   "cell_type": "markdown",
   "id": "4ffefdf3-01c1-4f5e-be08-c8cb5ad98f7d",
   "metadata": {},
   "source": [
    "Question 10. Data Manipulation with Pandas: Given a Pandas DataFrame containing\n",
    "columns ’Sales’ and ’Expenses’, create a new column ’Profit’ that calculates\n",
    "the profit as ’Sales’ minus ’Expenses’."
   ]
  },
  {
   "cell_type": "code",
   "execution_count": 3,
   "id": "e6accb2f-f299-4995-ad16-ef14072ea743",
   "metadata": {},
   "outputs": [
    {
     "name": "stdout",
     "output_type": "stream",
     "text": [
      "   Sales  Expenses  Profit\n",
      "0   1000       500     500\n",
      "1   1600       800     800\n",
      "2   2000      1000    1000\n"
     ]
    }
   ],
   "source": [
    "data = {'Sales': [1000, 1600, 2000],\n",
    "        'Expenses': [500, 800, 1000]}\n",
    "\n",
    "df = pd.DataFrame(data)\n",
    "\n",
    "# Calculate the 'Profit' column\n",
    "df['Profit'] = df['Sales'] - df['Expenses']\n",
    "\n",
    "print(df)\n"
   ]
  },
  {
   "cell_type": "code",
   "execution_count": null,
   "id": "be0c4120-3ac1-4e02-b6e3-4e4b3c5aa25b",
   "metadata": {},
   "outputs": [],
   "source": []
  },
  {
   "cell_type": "markdown",
   "id": "dc55c03b-05ea-4d19-a5e8-51f3896a6cad",
   "metadata": {},
   "source": [
    "Question 11. Dictionary Manipulation: Given a dictionary phonebook containing names\n",
    "as keys and phone numbers as values, write a function to find and return the\n",
    "name(s) of the person(s) with the maximum phone number(s)."
   ]
  },
  {
   "cell_type": "code",
   "execution_count": 2,
   "id": "d6f3d87c-851c-45f2-9a91-656c253d57e4",
   "metadata": {},
   "outputs": [
    {
     "name": "stdout",
     "output_type": "stream",
     "text": [
      "Name with maximum phone number: ['Aakash']\n"
     ]
    }
   ],
   "source": [
    "def Max_phone_number(phonebook):\n",
    "    \n",
    "    max_phone_number = max(phonebook.values())\n",
    "    max_phone_number_name = [name for name, number in phonebook.items() if number == max_phone_number]\n",
    "    \n",
    "    return max_phone_number_name\n",
    "\n",
    "\n",
    "phonebook = {\n",
    "    'mohan': 5551111,\n",
    "    'Bhuvan': 5552222,\n",
    "    'Charlie': 5553333,\n",
    "    'Dhurva': 5552222,\n",
    "    'Aakash': 5554444\n",
    "}\n",
    "\n",
    "max_phone_number_name = Max_phone_number(phonebook)\n",
    "print(\"Name with maximum phone number:\", max_phone_number_name)\n"
   ]
  },
  {
   "cell_type": "code",
   "execution_count": null,
   "id": "179647bb-4982-4bc6-b8d4-d02405875b7f",
   "metadata": {},
   "outputs": [],
   "source": []
  },
  {
   "cell_type": "markdown",
   "id": "de7710c0-28e7-4fba-b7e1-bc7fe63298c3",
   "metadata": {},
   "source": [
    "Queation 12. Functions and Recursion: Write a recursive Python function to calculate\n",
    "the factorial of a given positive integer."
   ]
  },
  {
   "cell_type": "code",
   "execution_count": 5,
   "id": "b14fba64-cb64-4b99-9ea8-1dcbc763ea92",
   "metadata": {},
   "outputs": [
    {
     "name": "stdin",
     "output_type": "stream",
     "text": [
      "Enter a positive integer:  5\n"
     ]
    },
    {
     "name": "stdout",
     "output_type": "stream",
     "text": [
      "The factorial of 5 is 120\n"
     ]
    }
   ],
   "source": [
    "def Factorial(n):\n",
    "    if n==0 or n==1:\n",
    "        return 1\n",
    "    else:\n",
    "        return n*Factorial(n-1)\n",
    "\n",
    "number = int(input(\"Enter a positive integer: \"))\n",
    "if number < 0:\n",
    "    print(\"Factorial is not defined for negative integers.\")\n",
    "else:\n",
    "    result_value = Factorial(number)\n",
    "    print(f\"The factorial of {number} is {result_value}\")"
   ]
  },
  {
   "cell_type": "code",
   "execution_count": null,
   "id": "1cbac084-1c6d-4fa1-beff-b90c15874404",
   "metadata": {},
   "outputs": [],
   "source": []
  },
  {
   "cell_type": "markdown",
   "id": "2c8481ee-24bb-4b91-83d6-e373f76cd63f",
   "metadata": {},
   "source": [
    "Question 13. File Handling: Read a text file named “data.txt” that contains one number\n",
    "per line. Write a Python script to calculate the sum of all the numbers and\n",
    "print the result."
   ]
  },
  {
   "cell_type": "code",
   "execution_count": 21,
   "id": "6f775914-f797-4033-ac0e-329c4a501ba0",
   "metadata": {},
   "outputs": [
    {
     "name": "stdout",
     "output_type": "stream",
     "text": [
      "The sum of all numbers in 'C:\\Users\\ganes\\Downloads\\Data.txt' is: 14.0\n"
     ]
    }
   ],
   "source": [
    "def calculate_sum(filename):\n",
    "    total_sum = 0\n",
    "    with open(filename, 'r') as file:\n",
    "        for line in file:    \n",
    "            number = float(line.strip())  # Convert each line to a number\n",
    "            total_sum += number\n",
    "        return total_sum\n",
    "\n",
    "filename = r\"C:\\Users\\ganes\\Downloads\\Data.txt\"\n",
    "sum_result = calculate_sum(filename)\n",
    "print(f\"The sum of all numbers in '{filename}' is: {sum_result}\")\n"
   ]
  },
  {
   "cell_type": "code",
   "execution_count": null,
   "id": "e3b20228-d550-44b3-9d1b-75a0bd41df14",
   "metadata": {},
   "outputs": [],
   "source": []
  },
  {
   "cell_type": "markdown",
   "id": "66e39b55-6287-4e14-8ef7-616ca647a5fa",
   "metadata": {},
   "source": [
    "Question 14. Object-Oriented Programming: Create a class Rectangle with attributes\n",
    "width and height, and methods to calculate the area and perimeter. Test\n",
    "the class by creating objects and performing calculations."
   ]
  },
  {
   "cell_type": "code",
   "execution_count": 23,
   "id": "a08a94ae-2443-4f42-a494-7fc7dccc8bae",
   "metadata": {},
   "outputs": [
    {
     "name": "stdout",
     "output_type": "stream",
     "text": [
      "Rectangle 1:\n",
      "Width: 5\n",
      "Height: 10\n",
      "Area: 50\n",
      "Perimeter: 30\n",
      "\n",
      "Rectangle 2:\n",
      "Width: 7\n",
      "Height: 3\n",
      "Area: 21\n",
      "Perimeter: 20\n"
     ]
    }
   ],
   "source": [
    "class Rectangle:\n",
    "    def __init__(self, width, height):\n",
    "        self.width = width\n",
    "        self.height = height\n",
    "\n",
    "    def calculate_area(self):\n",
    "        return self.width * self.height\n",
    "\n",
    "    def calculate_perimeter(self):\n",
    "        return 2 * (self.width + self.height)\n",
    "\n",
    "rectangle1 = Rectangle(5, 10)\n",
    "rectangle2 = Rectangle(7, 3)\n",
    "\n",
    "area1 = rectangle1.calculate_area()\n",
    "perimeter1 = rectangle1.calculate_perimeter()\n",
    "\n",
    "area2 = rectangle2.calculate_area()\n",
    "perimeter2 = rectangle2.calculate_perimeter()\n",
    "\n",
    "print(\"Rectangle 1:\")\n",
    "print(\"Width:\", rectangle1.width)\n",
    "print(\"Height:\", rectangle1.height)\n",
    "print(\"Area:\", area1)\n",
    "print(\"Perimeter:\", perimeter1)\n",
    "\n",
    "print(\"\\nRectangle 2:\")\n",
    "print(\"Width:\", rectangle2.width)\n",
    "print(\"Height:\", rectangle2.height)\n",
    "print(\"Area:\", area2)\n",
    "print(\"Perimeter:\", perimeter2)\n"
   ]
  },
  {
   "cell_type": "code",
   "execution_count": null,
   "id": "a8d9e9fc-21d7-4de7-b18e-dab4cd5e41b6",
   "metadata": {},
   "outputs": [],
   "source": []
  },
  {
   "cell_type": "markdown",
   "id": "b852ad25-0062-47b4-b13a-c946f42d1f4d",
   "metadata": {},
   "source": [
    "Question 15. Numpy Array Manipulation: Create a 3×3 identity matrix using NumPy\n",
    "and then convert it into a 1D array."
   ]
  },
  {
   "cell_type": "code",
   "execution_count": 24,
   "id": "e62c2b20-e4ec-440a-a5b9-08ade3d49db9",
   "metadata": {},
   "outputs": [
    {
     "name": "stdout",
     "output_type": "stream",
     "text": [
      "3x3 Identity Matrix:\n",
      "[[1. 0. 0.]\n",
      " [0. 1. 0.]\n",
      " [0. 0. 1.]]\n",
      "\n",
      "1D Array:\n",
      "[1. 0. 0. 0. 1. 0. 0. 0. 1.]\n"
     ]
    }
   ],
   "source": [
    "# Create a 3x3 identity matrix\n",
    "identity_matrix = np.identity(3)\n",
    "\n",
    "# Convert the identity matrix into a 1D array\n",
    "identity_1d = identity_matrix.flatten()\n",
    "\n",
    "print(\"3x3 Identity Matrix:\")\n",
    "print(identity_matrix)\n",
    "print(\"\\n1D Array:\")\n",
    "print(identity_1d)\n"
   ]
  },
  {
   "cell_type": "code",
   "execution_count": null,
   "id": "a036a514-6a5b-4552-95de-35b239bf1c41",
   "metadata": {},
   "outputs": [],
   "source": []
  },
  {
   "cell_type": "markdown",
   "id": "7b14ccc1-f78c-4422-a087-689a1e4b5a98",
   "metadata": {},
   "source": [
    "Question 16. Data Visualization with Matplotlib: Using Matplotlib, create a bar\n",
    "chart to compare the average scores of students in three different subjects."
   ]
  },
  {
   "cell_type": "code",
   "execution_count": 26,
   "id": "247cea05-f768-4a04-9a76-d6bbe5fea282",
   "metadata": {},
   "outputs": [
    {
     "data": {
      "image/png": "[encoded data removed]",
      "text/plain": [
       "<Figure size 640x480 with 1 Axes>"
      ]
     },
     "metadata": {},
     "output_type": "display_data"
    }
   ],
   "source": [
    "import matplotlib.pyplot as plt\n",
    "# Subject names\n",
    "subjects = ['Math', 'Science', 'History']\n",
    "\n",
    "# Average scores\n",
    "average_scores = [85, 78, 92]\n",
    "\n",
    "plt.bar(subjects, average_scores, color='blue')\n",
    "\n",
    "# Add labels and title\n",
    "plt.xlabel('Subjects')\n",
    "plt.ylabel('Average Score')\n",
    "plt.title('Average Scores of Students in Different Subjects')\n",
    "\n",
    "plt.show()\n"
   ]
  },
  {
   "cell_type": "code",
   "execution_count": null,
   "id": "98cd3271-1444-488e-bf5c-254fdb00d03c",
   "metadata": {},
   "outputs": [],
   "source": []
  },
  {
   "cell_type": "code",
   "execution_count": null,
   "id": "8fd3ced3-2819-4966-99e1-4352234ee641",
   "metadata": {},
   "outputs": [],
   "source": []
  },
  {
   "cell_type": "code",
   "execution_count": null,
   "id": "6e1c5255-ea3f-4a18-a27b-393e7aa8c06e",
   "metadata": {},
   "outputs": [],
   "source": []
  },
  {
   "cell_type": "code",
   "execution_count": null,
   "id": "e7f6711d-454e-40ac-9a1b-fc02e7bdf03f",
   "metadata": {},
   "outputs": [],
   "source": []
  },
  {
   "cell_type": "code",
   "execution_count": null,
   "id": "ff6df9b0-d57d-4b40-90fd-8d1412c89e6a",
   "metadata": {},
   "outputs": [],
   "source": []
  },
  {
   "cell_type": "code",
   "execution_count": null,
   "id": "a1b35519-c71e-4c53-baa4-5788a35065f3",
   "metadata": {},
   "outputs": [],
   "source": []
  },
  {
   "cell_type": "code",
   "execution_count": null,
   "id": "51138355-83a7-480e-abb2-61213751dcc1",
   "metadata": {},
   "outputs": [],
   "source": []
  },
  {
   "cell_type": "code",
   "execution_count": null,
   "id": "f5606c3b-964b-4567-9a82-275f5eca9ec5",
   "metadata": {},
   "outputs": [],
   "source": []
  },
  {
   "cell_type": "code",
   "execution_count": null,
   "id": "72021264-9d94-4522-9c4d-f9a211115287",
   "metadata": {},
   "outputs": [],
   "source": []
  },
  {
   "cell_type": "code",
   "execution_count": null,
   "id": "29b29c5c-1cc7-4371-b2e0-c88ff2a4a375",
   "metadata": {},
   "outputs": [],
   "source": []
  },
  {
   "cell_type": "code",
   "execution_count": null,
   "id": "dd8e40fe-cd95-47b9-bcac-c064a324b431",
   "metadata": {},
   "outputs": [],
   "source": []
  },
  {
   "cell_type": "code",
   "execution_count": null,
   "id": "c3e6e9e1-8a1a-4fc5-bcfa-282fce306989",
   "metadata": {},
   "outputs": [],
   "source": []
  }
 ],
 "metadata": {
  "kernelspec": {
   "display_name": "Python 3 (ipykernel)",
   "language": "python",
   "name": "python3"
  },
  "language_info": {
   "codemirror_mode": {
    "name": "ipython",
    "version": 3
   },
   "file_extension": ".py",
   "mimetype": "text/x-python",
   "name": "python",
   "nbconvert_exporter": "python",
   "pygments_lexer": "ipython3",
   "version": "3.10.9"
  }
 },
 "nbformat": 4,
 "nbformat_minor": 5
}
